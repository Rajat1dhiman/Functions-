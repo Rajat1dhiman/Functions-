{
  "nbformat": 4,
  "nbformat_minor": 0,
  "metadata": {
    "colab": {
      "provenance": [],
      "collapsed_sections": [
        "X-IkOfmNmn5O"
      ]
    },
    "kernelspec": {
      "name": "python3",
      "display_name": "Python 3"
    },
    "language_info": {
      "name": "python"
    }
  },
  "cells": [
    {
      "cell_type": "markdown",
      "source": [
        "## THEORY QUESTIONS"
      ],
      "metadata": {
        "id": "X-IkOfmNmn5O"
      }
    },
    {
      "cell_type": "markdown",
      "source": [
        "1. What is the difference between a function and a method in a Python?\n",
        "\n",
        "Ans.  1. **Function**: A function is a block of reusable code that is designed to perform specific task. It can take inputs ,process them and return an output."
      ],
      "metadata": {
        "id": "5QD0rmYEmuNU"
      }
    },
    {
      "cell_type": "code",
      "source": [
        "def greet(name):\n",
        "  return f\"hello,{name}!\""
      ],
      "metadata": {
        "id": "9Vtrk29enp-B"
      },
      "execution_count": null,
      "outputs": []
    },
    {
      "cell_type": "code",
      "source": [
        "print(greet(\"Rajat\"))"
      ],
      "metadata": {
        "colab": {
          "base_uri": "https://localhost:8080/"
        },
        "id": "9QjA23z8n1qE",
        "outputId": "4d2e5f6b-ff19-40dc-e521-713829a5b547"
      },
      "execution_count": null,
      "outputs": [
        {
          "output_type": "stream",
          "name": "stdout",
          "text": [
            "hello,Rajat!\n"
          ]
        }
      ]
    },
    {
      "cell_type": "markdown",
      "source": [
        "**2.Method**: A method is essentially a function , but it is associated with an object. In python , methods are defined inside a class and operate on the instance(or the class itself, in the case of class methods)."
      ],
      "metadata": {
        "id": "XVLeWlg2n96c"
      }
    },
    {
      "cell_type": "code",
      "source": [
        "class Greeter:\n",
        "  def __init__(self,name):\n",
        "    self.name=name\n",
        "\n",
        "  def greet(self):\n",
        "      return f\"Hello,{self.name}!\"\n"
      ],
      "metadata": {
        "id": "wbWAmoxDn5w1"
      },
      "execution_count": null,
      "outputs": []
    },
    {
      "cell_type": "code",
      "source": [
        "g = Greeter(\"Rajat\")\n",
        "print(g.greet())"
      ],
      "metadata": {
        "colab": {
          "base_uri": "https://localhost:8080/"
        },
        "id": "JVdnxqnFouBs",
        "outputId": "f0d12b79-21eb-421f-9461-8fc6794f82b8"
      },
      "execution_count": null,
      "outputs": [
        {
          "output_type": "stream",
          "name": "stdout",
          "text": [
            "Hello,Rajat!\n"
          ]
        }
      ]
    },
    {
      "cell_type": "markdown",
      "source": [
        "2. Explain the concept of function arguments and parameters in Python.\n",
        "\n",
        "Ans: In Python, arguments and parameters are essential concepts related to how functions receive and work with data.\n",
        "\n",
        "**1.Parameters:** Parameters are the names used in a function definition to specify what kind of information the function excepts to receive when it is called.\n",
        "They act as placeholders that define what values the function can accept"
      ],
      "metadata": {
        "id": "ES-t-7bBo_zQ"
      }
    },
    {
      "cell_type": "code",
      "source": [
        "def greet(name):\n",
        "  print(f\"Hello,{name}!\")"
      ],
      "metadata": {
        "id": "r1oV6bjNo2Ic"
      },
      "execution_count": null,
      "outputs": []
    },
    {
      "cell_type": "markdown",
      "source": [
        "**2.Arguments:** Arguments are the actual value or data you pass to the function when calling it. They are the real inputs that breplace the parameters during execution.\n",
        "\n",
        ">> When you call the function,you provide arguments for each parameter."
      ],
      "metadata": {
        "id": "nCgrS0M3qygQ"
      }
    },
    {
      "cell_type": "code",
      "source": [
        "greet(\"Rajat\")"
      ],
      "metadata": {
        "colab": {
          "base_uri": "https://localhost:8080/"
        },
        "id": "k49HlVhlqxPm",
        "outputId": "ed608980-7dc9-41c1-dba2-fae79942dcb9"
      },
      "execution_count": null,
      "outputs": [
        {
          "output_type": "stream",
          "name": "stdout",
          "text": [
            "Hello,Rajat!\n"
          ]
        }
      ]
    },
    {
      "cell_type": "markdown",
      "source": [
        "**TYPES OF FUNCTION ARGUMENT**\n",
        "\n",
        "1.  Positional argument: These arguments are poaseed in the same order as the parameters are defined in the function."
      ],
      "metadata": {
        "id": "AiDyD5lPrsCP"
      }
    },
    {
      "cell_type": "code",
      "source": [
        "def add(x,y):\n",
        "  return x+y\n",
        "\n",
        "result=add(5,9)\n",
        "print(result)"
      ],
      "metadata": {
        "colab": {
          "base_uri": "https://localhost:8080/"
        },
        "id": "a8rOtHcrrrXi",
        "outputId": "2c482855-c72a-4bee-b8bd-570636e1f27a"
      },
      "execution_count": null,
      "outputs": [
        {
          "output_type": "stream",
          "name": "stdout",
          "text": [
            "14\n"
          ]
        }
      ]
    },
    {
      "cell_type": "markdown",
      "source": [
        "2. Keyword Arguments: You specify the parameter names explicitly when calling the function . The order of arguments does not matter in caes."
      ],
      "metadata": {
        "id": "znRi8SIgsXTW"
      }
    },
    {
      "cell_type": "code",
      "source": [
        "def greet(name,age):\n",
        "  print(f\"{name} is {age} years old.\")"
      ],
      "metadata": {
        "id": "PYacBQvjsWI_"
      },
      "execution_count": null,
      "outputs": []
    },
    {
      "cell_type": "code",
      "source": [
        "greet(age=21,name=\"Rajat\")"
      ],
      "metadata": {
        "colab": {
          "base_uri": "https://localhost:8080/"
        },
        "id": "e2dWLwX0sqzb",
        "outputId": "3e1b11d7-3f9c-45da-abac-6efbfbb5caf7"
      },
      "execution_count": null,
      "outputs": [
        {
          "output_type": "stream",
          "name": "stdout",
          "text": [
            "Rajat is 21 years old.\n"
          ]
        }
      ]
    },
    {
      "cell_type": "markdown",
      "source": [
        "3. Default arguments: You can define default values for parametrs. If no argument is provide for that parameter, the default value will be used"
      ],
      "metadata": {
        "id": "6t8cd3b3s__l"
      }
    },
    {
      "cell_type": "code",
      "source": [
        "def greet(name,age=30):\n",
        "  print(f\"{name} is {age} years old.\")\n",
        "\n",
        "greet(\"Alice\")"
      ],
      "metadata": {
        "colab": {
          "base_uri": "https://localhost:8080/"
        },
        "id": "47of5H2Zs6JW",
        "outputId": "0bcb0d20-eb55-43a5-bd48-dcad9545992b"
      },
      "execution_count": null,
      "outputs": [
        {
          "output_type": "stream",
          "name": "stdout",
          "text": [
            "Alice is 30 years old.\n"
          ]
        }
      ]
    },
    {
      "cell_type": "markdown",
      "source": [
        "3. What are the differnt ways to define and call a function in Python?\n",
        "\n",
        "Ans. In Python, there are several ways to define and call the functions depending on the use case. Let us explore these diffenet methods in detail:\n",
        "\n",
        "**1. DEfining and Calling a Simple Function**: the most basic way to define a function is using a **def** keyword , followed by the fuction name  and  paranthses. to call the function , you simply use its name and pass any necessary arguments."
      ],
      "metadata": {
        "id": "HGxSLPCete35"
      }
    },
    {
      "cell_type": "code",
      "source": [
        "def greet(name):\n",
        "  print(f\"Hello,{name}\")\n"
      ],
      "metadata": {
        "id": "fC1U4_DZtdUp"
      },
      "execution_count": null,
      "outputs": []
    },
    {
      "cell_type": "code",
      "source": [
        "greet(\"Rajat\")"
      ],
      "metadata": {
        "colab": {
          "base_uri": "https://localhost:8080/"
        },
        "id": "ZSoj0Do6vo2V",
        "outputId": "15c060bd-a456-4647-a3c1-1f48adc77505"
      },
      "execution_count": null,
      "outputs": [
        {
          "output_type": "stream",
          "name": "stdout",
          "text": [
            "Hello,Rajat\n"
          ]
        }
      ]
    },
    {
      "cell_type": "markdown",
      "source": [
        "**2.Defining and Calling a fuction with default Parameters:**  You can provide default values for function parametrs. This way, if an argument is not provided when the function is called, the default value is used."
      ],
      "metadata": {
        "id": "KivPucsTvsnU"
      }
    },
    {
      "cell_type": "code",
      "source": [
        "def greet(name,age=25):\n",
        "  print(f\"Hello{name} . You are {age} years old\")"
      ],
      "metadata": {
        "id": "vOI662g2vriv"
      },
      "execution_count": null,
      "outputs": []
    },
    {
      "cell_type": "code",
      "source": [
        "#calling trhe function\n",
        "greet(\"pankaj\")"
      ],
      "metadata": {
        "colab": {
          "base_uri": "https://localhost:8080/"
        },
        "id": "n5kaY-9TwY4B",
        "outputId": "77a06d13-91fe-4bef-a2dc-0d81352f1337"
      },
      "execution_count": null,
      "outputs": [
        {
          "output_type": "stream",
          "name": "stdout",
          "text": [
            "Hellopankaj . You are 25 years old\n"
          ]
        }
      ]
    },
    {
      "cell_type": "markdown",
      "source": [
        "**3. Calling a function using Positional Arguments**:  In this approach , the function's arguments are paseed in the same order as the parameters are defined."
      ],
      "metadata": {
        "id": "MEOuNliiwh6K"
      }
    },
    {
      "cell_type": "code",
      "source": [
        "def add(  x,y):\n",
        "  return x+y"
      ],
      "metadata": {
        "id": "cxAdnyB-weQz"
      },
      "execution_count": null,
      "outputs": []
    },
    {
      "cell_type": "code",
      "source": [
        "#calling the function\n",
        "\n",
        "result=add(5,9)\n",
        "print(result)"
      ],
      "metadata": {
        "colab": {
          "base_uri": "https://localhost:8080/"
        },
        "id": "q1U_kVb5w726",
        "outputId": "9352e4eb-ecba-4b61-8f78-2ce706c7e4f0"
      },
      "execution_count": null,
      "outputs": [
        {
          "output_type": "stream",
          "name": "stdout",
          "text": [
            "14\n"
          ]
        }
      ]
    },
    {
      "cell_type": "markdown",
      "source": [
        "**4. Calling a Function Using Keyword Arguments**:  With keyword arguments, you pass the parametr names explicitly when calling the function . The order of the srguments does not matter"
      ],
      "metadata": {
        "id": "Tqa5IYAMxCPy"
      }
    },
    {
      "cell_type": "code",
      "source": [
        "def introduce(name,age):\n",
        "  print(f\"My name is {name}, and I am {age } years old.\")"
      ],
      "metadata": {
        "id": "ODSW9_LKw_-d"
      },
      "execution_count": null,
      "outputs": []
    },
    {
      "cell_type": "code",
      "source": [
        "#calling the function\n",
        "\n",
        "introduce(age=21,name=\"Rajat\")"
      ],
      "metadata": {
        "colab": {
          "base_uri": "https://localhost:8080/"
        },
        "id": "TIcC2GxJxj_v",
        "outputId": "a3c3c063-ad24-4891-e95a-7e6dca3c11c0"
      },
      "execution_count": null,
      "outputs": [
        {
          "output_type": "stream",
          "name": "stdout",
          "text": [
            "My name is Rajat, and I am 21 years old.\n"
          ]
        }
      ]
    },
    {
      "cell_type": "markdown",
      "source": [
        "**5. Variable - length Arguments(*args and *kwargs):**\n",
        "You can define a function taht accepts a variable number of arguments using ** *args**(non-keyword arguments) and **kwargs (keyword arguments)"
      ],
      "metadata": {
        "id": "501tx380xwfS"
      }
    },
    {
      "cell_type": "code",
      "source": [
        "def greet(*names):\n",
        "  for name in names:\n",
        "    print(f\"Hello,{name}\")"
      ],
      "metadata": {
        "id": "VHcB9ArrxvOS"
      },
      "execution_count": null,
      "outputs": []
    },
    {
      "cell_type": "code",
      "source": [
        "#calling the function\n",
        "\n",
        "greet(\"Rajat\",\"Pankaj\",\"Raman\")"
      ],
      "metadata": {
        "colab": {
          "base_uri": "https://localhost:8080/"
        },
        "id": "zH24KCZgymD4",
        "outputId": "cc5ec8d7-3a5a-402a-c81e-5a9c15ea8d0a"
      },
      "execution_count": null,
      "outputs": [
        {
          "output_type": "stream",
          "name": "stdout",
          "text": [
            "Hello,Rajat\n",
            "Hello,Pankaj\n",
            "Hello,Raman\n"
          ]
        }
      ]
    },
    {
      "cell_type": "markdown",
      "source": [
        "4. What is the purpose of the 'return ' statement in a Python function?\n",
        "\n",
        "Ans.  The **return** statement in a Python function is used to send a result or output back to thecaller of the function. it allows the function to provide a value to the part of the program that called it, whivh can then be used for further processing.\n",
        "\n",
        "1.**Exit the function:** When a return statement is executed, it immediately ends the function's execution. Any code after return statement is not executed.\n",
        "\n",
        "2.**Return a Value**: The return statement can return a value ,which can be any type of Python object, such as numbers,strings,lists,dictionaries etc. The caller can use this value after the function call.\n",
        "\n",
        "3.**Optional Return Value**: If no value is specified with return , the function return NONE by default."
      ],
      "metadata": {
        "id": "8Z3aN6wwzm-E"
      }
    },
    {
      "cell_type": "code",
      "source": [
        "def sub(x,y):\n",
        "  result= x-y\n",
        "  return result\n"
      ],
      "metadata": {
        "id": "LQPjG0KiywO6"
      },
      "execution_count": null,
      "outputs": []
    },
    {
      "cell_type": "code",
      "source": [
        "sum_result=sub(5,3)\n",
        "print(sum_result)"
      ],
      "metadata": {
        "colab": {
          "base_uri": "https://localhost:8080/"
        },
        "id": "_cURo9AH1f9C",
        "outputId": "71a89514-8971-4088-9472-e3ba5bdb20e3"
      },
      "execution_count": null,
      "outputs": [
        {
          "output_type": "stream",
          "name": "stdout",
          "text": [
            "2\n"
          ]
        }
      ]
    },
    {
      "cell_type": "markdown",
      "source": [
        "5. Waht are iterators in Python and how do they differ from iterables?\n",
        "\n",
        "Ans. **Iterables**:\n",
        "1. An Iterable is any Python object capable of returning its members one at a time, allowing you to loop over its elements using a for-loop\n",
        "2. Common examples of iterables includes lists,tuples, dictionaries and strings.\n",
        "3. Iterables implement the __iter__() method, which returns an iterator object.\n",
        "\n",
        "**Iterators**:\n",
        "1. An Iterator is an object that represents a stream of data, enabling you to traverse through all the elements within an iterable.\n",
        "2. Iterators implements two essential methods:__iter__() and __next__(). The __next__() method returns the next item from the stream and raises the StopIteration exception once the stream is exhausted.\n",
        "3. you can manually obtain an iterator from an iterable by using the iter() function."
      ],
      "metadata": {
        "id": "U8H6FwV61zzy"
      }
    },
    {
      "cell_type": "code",
      "source": [
        "my_list=[1,2,3,4]\n",
        "\n",
        "my_iterator=iter(my_list)\n",
        "\n",
        "print(next(my_iterator))\n",
        "print(next(my_iterator))\n",
        "print(next(my_iterator))\n",
        "print(next(my_iterator))"
      ],
      "metadata": {
        "colab": {
          "base_uri": "https://localhost:8080/"
        },
        "id": "WE4zOmjZ1pcD",
        "outputId": "5644b2b0-835b-4aec-dfc6-af8ef2988f40"
      },
      "execution_count": null,
      "outputs": [
        {
          "output_type": "stream",
          "name": "stdout",
          "text": [
            "1\n",
            "2\n",
            "3\n",
            "4\n"
          ]
        }
      ]
    },
    {
      "cell_type": "markdown",
      "source": [
        "6. Explain the concept of generators in Python and how they are defined?\n",
        "\n",
        "Ans.  A **Generator** in Python is a type of iterable, like a list  or tuple, but unlike lists, generators do not store their items in memory. Instead , they genearte items one at a time on the fly using the **yield** keyword. This makes them more memory-efficient when dealing with large data sets or infinite sequences.\n",
        "\n",
        "Generator allows you to iterate over a potentially huge sequence of values, but without having to store the entire sequence in memory at once.\n",
        "\n",
        "Generators can be defined in two main ways:\n",
        "\n",
        "1. **Using a function with yield:** You can define a generator using a function and the yield keyword. When the yiel statementr is encountered , it produces a value and pauses the function's execution, saving its state. The next time the generator is called , it resumes execution from where it left off, continuing to yield values until the function ends or a  return statement is encountered.\n",
        "\n",
        "2. **Using Generator Expressions:** Similar to list comprehensions, generator expressions allow you to create a generator in a more compact from. Instead of using the yield keyword , generator in a more comapct form. Instead of using the **yield** keyword , generator expressions use parentheses().\n"
      ],
      "metadata": {
        "id": "2DLgo6UJ3tfq"
      }
    },
    {
      "cell_type": "code",
      "source": [
        "def count_up_to(n):\n",
        "  count=1\n",
        "  while count<=n:\n",
        "    yield count # this produce a value and pauses the function\n",
        "    count +=1\n",
        "\n",
        "#create a generator\n",
        "counter=count_up_to(5)\n",
        "\n",
        "#Iterate over the generator\n",
        "for num in counter:\n",
        "  print(num)"
      ],
      "metadata": {
        "colab": {
          "base_uri": "https://localhost:8080/"
        },
        "id": "cFiT-eaC3tNc",
        "outputId": "0652cecf-035a-457b-b284-c561528ae755"
      },
      "execution_count": null,
      "outputs": [
        {
          "output_type": "stream",
          "name": "stdout",
          "text": [
            "1\n",
            "2\n",
            "3\n",
            "4\n",
            "5\n"
          ]
        }
      ]
    },
    {
      "cell_type": "markdown",
      "source": [
        "7. What are the advantages of using generators over regular functions?\n",
        "\n",
        "Ans. Generators offer several advantages over regular functions, especially when working with large datasets or sequences of data that may be expensive to generate or store in memory. Here are the key benefits:\n",
        "\n",
        "1.**Memory Efficiency**: Generators are more memory-efficient than regular functions because they do not store the entire sequences of valus in memory. Instead , they generate values on the fly, one at a time , using the **yield** keyword.\n",
        "\n",
        "2. **Lazy Evaluation**:\n",
        "Generators support lazy evaluation, meaning they compute and yield values only when requested , rather than computing all values upfront.\n",
        "3. **Improved PErformance:** Since generators produce values lazily and only when needed, they can result in faster startup times, especially when dealing with large datasets or when only a small portion of data is required."
      ],
      "metadata": {
        "id": "6tyK16nR7ysn"
      }
    },
    {
      "cell_type": "markdown",
      "source": [
        "8. What is a lambda function in python and when is it typically used?\n",
        "\n",
        "Ans. A Lambda function in Python is a small, anonymous function taht have any number of input parameters but can only have one expression. Lambda functions are also referred to as \"anonymous functions\" because they are defined without a name."
      ],
      "metadata": {
        "id": "qwIzAT7I-BkC"
      }
    },
    {
      "cell_type": "code",
      "source": [
        "#syntax\n",
        "lambda arguments: expression"
      ],
      "metadata": {
        "colab": {
          "base_uri": "https://localhost:8080/"
        },
        "id": "HkgY0d6P3rxc",
        "outputId": "2911d42c-e3e7-4fcd-d3a3-dfccd050686a"
      },
      "execution_count": null,
      "outputs": [
        {
          "output_type": "execute_result",
          "data": {
            "text/plain": [
              "<function __main__.<lambda>(arguments)>"
            ]
          },
          "metadata": {},
          "execution_count": 7
        }
      ]
    },
    {
      "cell_type": "code",
      "source": [
        "add = lambda x,y:x+y\n",
        "print(add(3,4))"
      ],
      "metadata": {
        "colab": {
          "base_uri": "https://localhost:8080/"
        },
        "id": "GK6Z7DVT--On",
        "outputId": "988f8cd8-0297-4a65-9b9c-097594b4e3d2"
      },
      "execution_count": null,
      "outputs": [
        {
          "output_type": "stream",
          "name": "stdout",
          "text": [
            "7\n"
          ]
        }
      ]
    },
    {
      "cell_type": "markdown",
      "source": [
        "When to use Lambda Functions:\n",
        "\n",
        "1. Short,Throwaway Functions\n",
        "2. Functions as Arguments"
      ],
      "metadata": {
        "id": "4CbG3Zga_Rsw"
      }
    },
    {
      "cell_type": "code",
      "source": [
        "numbers=[1,2,3,4,5]\n",
        "squared=list(map(lambda x:x**2,numbers))\n",
        "print(squared)"
      ],
      "metadata": {
        "colab": {
          "base_uri": "https://localhost:8080/"
        },
        "id": "H6fLHhlJ_Ovr",
        "outputId": "81fe8f08-8c31-41e4-8dcc-2cbf3722c932"
      },
      "execution_count": null,
      "outputs": [
        {
          "output_type": "stream",
          "name": "stdout",
          "text": [
            "[1, 4, 9, 16, 25]\n"
          ]
        }
      ]
    },
    {
      "cell_type": "markdown",
      "source": [
        "9. Explain the purpose and usage of the 'map()' function in Python.\n",
        "\n",
        "Ans. The map() function in Python is a built-in function used for applying a function to all items in an input list(or any other iterable,like tuple,or sets)and returning a map object whichi is an iterator.\n",
        "\n",
        "**PURPOSE**\n",
        "THE main purpose of the map() function is to apply a given function to each item of an iterable(list,tuple,etc)and return a list of the results."
      ],
      "metadata": {
        "id": "5igl8azr_1nE"
      }
    },
    {
      "cell_type": "code",
      "source": [
        "numbers=[1,2,3,4,5]\n",
        "squared_numbers=map(lambda x:x**2,numbers)\n",
        "print(list(squared_numbers))"
      ],
      "metadata": {
        "id": "Kqh8Pemn_wzk",
        "colab": {
          "base_uri": "https://localhost:8080/"
        },
        "outputId": "0d9769dd-cfb9-4937-fde8-8edbf67ab580"
      },
      "execution_count": null,
      "outputs": [
        {
          "output_type": "stream",
          "name": "stdout",
          "text": [
            "[1, 4, 9, 16, 25]\n"
          ]
        }
      ]
    },
    {
      "cell_type": "markdown",
      "source": [
        "10. What is the difference between 'map()','reduce()',and 'filter()'functions in Python?\n",
        "\n",
        "Ans.**map(),reduce(), and filter()** are all higher -order functions in python used to operate on iterables like lists,tuple and sets. Here are the key differences between them:\n",
        "\n",
        "**map()**\n",
        "\n",
        "1. Purpose: Applies a given function to each item of an iterable and returns a map object(which can be converted to a list,tuple,etc)\n",
        "2. Syntax:**map(function,iterable,....)"
      ],
      "metadata": {
        "id": "iZpk3zKipRzR"
      }
    },
    {
      "cell_type": "code",
      "source": [
        "numbers=[1,2,3,4,5]\n",
        "squared_numbers=map(lambda x:x**2,numbers)\n",
        "print(list(squared_numbers))"
      ],
      "metadata": {
        "colab": {
          "base_uri": "https://localhost:8080/"
        },
        "id": "jSDShJTOpQax",
        "outputId": "250335fd-5ad7-4343-caa5-4d05c59fa7d4"
      },
      "execution_count": null,
      "outputs": [
        {
          "output_type": "stream",
          "name": "stdout",
          "text": [
            "[1, 4, 9, 16, 25]\n"
          ]
        }
      ]
    },
    {
      "cell_type": "markdown",
      "source": [
        "**reduce()**\n",
        "\n",
        "1. Purpose: Applies a function of two arguments cumulatively to the items of an iterable,from left to right, to reduce the iterable to a single value"
      ],
      "metadata": {
        "id": "9kwDe8D1q-Y_"
      }
    },
    {
      "cell_type": "code",
      "source": [
        "from functools import reduce\n",
        "\n",
        "numbers=[1,2,3,4,5]\n",
        "product=reduce(lambda x,y:x*y,numbers)\n",
        "print(product)"
      ],
      "metadata": {
        "colab": {
          "base_uri": "https://localhost:8080/"
        },
        "id": "PQXxxZ_6q9V_",
        "outputId": "5d925b8a-3c39-4413-db94-82146b2ab7df"
      },
      "execution_count": null,
      "outputs": [
        {
          "output_type": "stream",
          "name": "stdout",
          "text": [
            "120\n"
          ]
        }
      ]
    },
    {
      "cell_type": "markdown",
      "source": [
        "11. Using pen and paper write the internal mechanism for sum operation using reduce function on this list:[47,11,42,13];\n",
        "\n",
        "Ans. Sure! Let's breakdown how the **reduce** function works for the sum operation in Python using the list[47,11,42,13].\n",
        "\n",
        "**Steps for the Sum Operation Using reduce**:\n",
        "\n",
        "1. Import the reduce function: To use **reduce** , we need to import the **functools** module.\n",
        "2. Understanding the reduce function: The reduce function takes two arguments:\n",
        "\n",
        ">> A function that defines the operation apply to the elements.\n",
        ">> A sequence like a list to reduce by applying the function cumulatively.\n",
        "\n",
        "3. THE **Operation**: We will define the sum function\n",
        "\n",
        "4. **Apply reduce** on the list: Now we will use **reduce** to apply th **add** function cumulatively to the elements of the list **[47,11,42,13].**"
      ],
      "metadata": {
        "id": "haa39us0YGeR"
      }
    },
    {
      "cell_type": "code",
      "source": [
        "from functools import reduce\n",
        "\n",
        "#Define the sum function\n",
        "def add(x,y):\n",
        "  return x+y\n",
        "\n",
        "#list of numbers\n",
        "numbers=[47,11,42,13]\n",
        "\n",
        "#aplly reduce to calculate the sum\n",
        "\n",
        "result=reduce(add,numbers)\n",
        "\n",
        "print(\"The sum of the numbers is:\",result)"
      ],
      "metadata": {
        "id": "HJpJ3xlErftO",
        "colab": {
          "base_uri": "https://localhost:8080/"
        },
        "outputId": "37e49ab3-ed0b-4f43-9bc3-6b2fd570981e"
      },
      "execution_count": null,
      "outputs": [
        {
          "output_type": "stream",
          "name": "stdout",
          "text": [
            "The sum of the numbers is: 113\n"
          ]
        }
      ]
    },
    {
      "cell_type": "markdown",
      "source": [
        "##PRACTICAL QUESTIONS\n",
        "\n"
      ],
      "metadata": {
        "id": "vsdZLmsba097"
      }
    },
    {
      "cell_type": "markdown",
      "source": [
        "1. Write a Python function that takes a list of numbers as input and returns the sum of all even numbers in the list."
      ],
      "metadata": {
        "id": "RmFYl6faa9ml"
      }
    },
    {
      "cell_type": "code",
      "source": [
        "def sum_of_even_numbers(numbers):\n",
        "  sum_even=0\n",
        "  for num in numbers:\n",
        "    if num%2==0:\n",
        "      sum_even+=num\n",
        "  return sum_even\n",
        "\n",
        "#use case\n",
        "numbers=[1,2,3,4,5,6,7,8]\n",
        "print(sum_of_even_numbers(numbers))"
      ],
      "metadata": {
        "colab": {
          "base_uri": "https://localhost:8080/"
        },
        "id": "3MpSDtNoatUH",
        "outputId": "6db42165-c7c9-4520-ac35-61e9fd2598db"
      },
      "execution_count": null,
      "outputs": [
        {
          "output_type": "stream",
          "name": "stdout",
          "text": [
            "20\n"
          ]
        }
      ]
    },
    {
      "cell_type": "markdown",
      "source": [
        "2. Create a Python function that accepts a string and return the reverse of that string."
      ],
      "metadata": {
        "id": "Yp4c-zCkcAbn"
      }
    },
    {
      "cell_type": "code",
      "source": [
        "def reverse_string(s):\n",
        "  return s[::-1]\n",
        "\n",
        "text=\"hello\"\n",
        "reversed_text=reverse_string(text)\n",
        "print(\"Reversed string:\",reversed_text)"
      ],
      "metadata": {
        "colab": {
          "base_uri": "https://localhost:8080/"
        },
        "id": "Ou-3Qbb5b4_6",
        "outputId": "dd7e745b-ac28-4667-95ff-3604773dbafc"
      },
      "execution_count": null,
      "outputs": [
        {
          "output_type": "stream",
          "name": "stdout",
          "text": [
            "Reversed string: olleh\n"
          ]
        }
      ]
    },
    {
      "cell_type": "code",
      "source": [
        "#using loop\n",
        "\n",
        "def reverse_string(s):\n",
        "  reversed_str=''\n",
        "  for char in s:\n",
        "    reversed_str=char + reversed_str\n",
        "  return reversed_str\n",
        "\n",
        "text=\"python\"\n",
        "reversed_text=reverse_string(text)\n",
        "print(\"reversed string:\",reversed_text)"
      ],
      "metadata": {
        "colab": {
          "base_uri": "https://localhost:8080/"
        },
        "id": "hySWFpIgcli1",
        "outputId": "80ba6365-e1c6-42f8-e647-9a09fcff2504"
      },
      "execution_count": null,
      "outputs": [
        {
          "output_type": "stream",
          "name": "stdout",
          "text": [
            "reversed string: nohtyp\n"
          ]
        }
      ]
    },
    {
      "cell_type": "markdown",
      "source": [
        "3. Implement a Python function that takes a list of integers and returns a new list containing the squares of each number."
      ],
      "metadata": {
        "id": "OTNcWy-hdKPz"
      }
    },
    {
      "cell_type": "code",
      "source": [
        "def square_numbers(num):\n",
        "  return[num**2 for num in num]\n",
        "\n",
        "input_list=[5,8,7,20,15]\n",
        "squared_list=square_numbers(input_list)\n",
        "print(squared_list)"
      ],
      "metadata": {
        "colab": {
          "base_uri": "https://localhost:8080/"
        },
        "id": "bb8XCDjBdI7e",
        "outputId": "10ca668b-7a72-4b6a-9f13-ab1fc8328206"
      },
      "execution_count": null,
      "outputs": [
        {
          "output_type": "stream",
          "name": "stdout",
          "text": [
            "[25, 64, 49, 400, 225]\n"
          ]
        }
      ]
    },
    {
      "cell_type": "markdown",
      "source": [
        "4. Write a python function that checks if a given number is prime or not from 1 to 100."
      ],
      "metadata": {
        "id": "zH93syGmd06m"
      }
    },
    {
      "cell_type": "code",
      "source": [
        "def prime_no(num):\n",
        "  if num<2:\n",
        "    return False\n",
        "  for i in range(2,int(num**0.5)+1):\n",
        "    if num%i==0:\n",
        "      return False\n",
        "  return True\n",
        "\n",
        "for num in range(1,201):\n",
        "  if prime_no(num):\n",
        "    print(f\"{num} is a prime number.\")\n"
      ],
      "metadata": {
        "colab": {
          "base_uri": "https://localhost:8080/"
        },
        "id": "n7DCt-zUdz0J",
        "outputId": "9c1e12fd-5c6c-4864-a889-5ddd7b81104f"
      },
      "execution_count": null,
      "outputs": [
        {
          "output_type": "stream",
          "name": "stdout",
          "text": [
            "2 is a prime number.\n",
            "3 is a prime number.\n",
            "5 is a prime number.\n",
            "7 is a prime number.\n",
            "11 is a prime number.\n",
            "13 is a prime number.\n",
            "17 is a prime number.\n",
            "19 is a prime number.\n",
            "23 is a prime number.\n",
            "29 is a prime number.\n",
            "31 is a prime number.\n",
            "37 is a prime number.\n",
            "41 is a prime number.\n",
            "43 is a prime number.\n",
            "47 is a prime number.\n",
            "53 is a prime number.\n",
            "59 is a prime number.\n",
            "61 is a prime number.\n",
            "67 is a prime number.\n",
            "71 is a prime number.\n",
            "73 is a prime number.\n",
            "79 is a prime number.\n",
            "83 is a prime number.\n",
            "89 is a prime number.\n",
            "97 is a prime number.\n",
            "101 is a prime number.\n",
            "103 is a prime number.\n",
            "107 is a prime number.\n",
            "109 is a prime number.\n",
            "113 is a prime number.\n",
            "127 is a prime number.\n",
            "131 is a prime number.\n",
            "137 is a prime number.\n",
            "139 is a prime number.\n",
            "149 is a prime number.\n",
            "151 is a prime number.\n",
            "157 is a prime number.\n",
            "163 is a prime number.\n",
            "167 is a prime number.\n",
            "173 is a prime number.\n",
            "179 is a prime number.\n",
            "181 is a prime number.\n",
            "191 is a prime number.\n",
            "193 is a prime number.\n",
            "197 is a prime number.\n",
            "199 is a prime number.\n"
          ]
        }
      ]
    },
    {
      "cell_type": "markdown",
      "source": [
        "5. Create an iterator class in Python that geneartes the fibonacci sequence up to a specified number of terms"
      ],
      "metadata": {
        "id": "139KO5AMet4d"
      }
    },
    {
      "cell_type": "code",
      "source": [
        "class FibonacciIterator:\n",
        "  def __init__(self,max_terms):\n",
        "    self.max_terms=max_terms\n",
        "    self.count=0\n",
        "    self.a,self.b=0,1\n",
        "\n",
        "  def __iter__(self):\n",
        "    return self\n",
        "\n",
        "  def __next__(self):\n",
        "    if self.count>=self.max_terms:\n",
        "      raise StopIteration\n",
        "    if self.count==0:\n",
        "      self.count+=1\n",
        "      return 0\n",
        "    elif self.count==1:\n",
        "      self.count+=1\n",
        "      return 1\n",
        "    else:\n",
        "      self.a,self.b=self.b,self.a+self.b\n",
        "      self.count+=1\n",
        "      return self.b\n",
        "\n",
        "fib = FibonacciIterator(10)\n",
        "for num in fib:\n",
        "  print(num)"
      ],
      "metadata": {
        "colab": {
          "base_uri": "https://localhost:8080/"
        },
        "id": "XWnKGb-teql_",
        "outputId": "8ff99f67-50bf-4393-f1a4-148d64edb575"
      },
      "execution_count": null,
      "outputs": [
        {
          "output_type": "stream",
          "name": "stdout",
          "text": [
            "0\n",
            "1\n",
            "1\n",
            "2\n",
            "3\n",
            "5\n",
            "8\n",
            "13\n",
            "21\n",
            "34\n"
          ]
        }
      ]
    },
    {
      "cell_type": "markdown",
      "source": [
        "6. Write  a generator function in Python that yields the power of up to a given exponent."
      ],
      "metadata": {
        "id": "IUhT9s5GgSZv"
      }
    },
    {
      "cell_type": "code",
      "source": [
        "def powers_of_two(max_exponent):\n",
        "  for exponent in range(max_exponent +1):\n",
        "    yield 2**exponent\n",
        "\n",
        "for power in powers_of_two(10):\n",
        "  print(power)"
      ],
      "metadata": {
        "colab": {
          "base_uri": "https://localhost:8080/"
        },
        "id": "r_QwmRPKgF83",
        "outputId": "412769be-c5c7-4384-b41d-150b9986c90b"
      },
      "execution_count": null,
      "outputs": [
        {
          "output_type": "stream",
          "name": "stdout",
          "text": [
            "1\n",
            "2\n",
            "4\n",
            "8\n",
            "16\n",
            "32\n",
            "64\n",
            "128\n",
            "256\n",
            "512\n",
            "1024\n"
          ]
        }
      ]
    },
    {
      "cell_type": "markdown",
      "source": [
        "7. Implement a generator function that reads a file line by line an yields each line as a  string."
      ],
      "metadata": {
        "id": "1mxSqLFFg2p4"
      }
    },
    {
      "cell_type": "code",
      "source": [
        "def read_file_line_by_line(file_path):\n",
        "    with open(file_path, 'r') as file:\n",
        "        for line in file:\n",
        "            yield line.strip()  # Using strip() to remove any extra newline characters\n",
        "\n",
        "# Example usage:\n",
        "# for line in read_file_line_by_line('your_file.txt'):\n",
        "#     print(line)\n"
      ],
      "metadata": {
        "id": "BsOeNQ4_g01L"
      },
      "execution_count": 1,
      "outputs": []
    },
    {
      "cell_type": "markdown",
      "source": [
        "8. Use  a lambda function in python to sort a list of tuple based on the second element of each tuple."
      ],
      "metadata": {
        "id": "FY2d6-4piA-P"
      }
    },
    {
      "cell_type": "code",
      "source": [
        "tuple_list=[(1,4),(3,1),(5,2),(2,3)]\n",
        "sorted_list=sorted(tuple_list,key=lambda x:x[1])\n",
        "\n",
        "print(sorted_list)"
      ],
      "metadata": {
        "colab": {
          "base_uri": "https://localhost:8080/"
        },
        "id": "neLqnAvOhxfb",
        "outputId": "a5958977-d69d-4eff-9a16-4a0ff68c76bf"
      },
      "execution_count": null,
      "outputs": [
        {
          "output_type": "stream",
          "name": "stdout",
          "text": [
            "[(3, 1), (5, 2), (2, 3), (1, 4)]\n"
          ]
        }
      ]
    },
    {
      "cell_type": "markdown",
      "source": [
        "9. Write a Python program that uses **map()** to converta list of temperatures from Celsius to Fahrenheit."
      ],
      "metadata": {
        "id": "ZpnaNChoikDU"
      }
    },
    {
      "cell_type": "code",
      "source": [
        "def celcius_to_fahrenheit(celsius):\n",
        "  return(celsius *9/5)+32\n",
        "\n",
        "celsius_temps=[0,20,30,37,100]\n",
        "\n",
        "fahrenheit_temps=list(map(celcius_to_fahrenheit,celsius_temps))\n",
        "\n",
        "print(\"Celsius Temperatures:\",celsius_temps)\n",
        "print(\"Fahrenheit Temperatures:\",fahrenheit_temps)"
      ],
      "metadata": {
        "colab": {
          "base_uri": "https://localhost:8080/"
        },
        "id": "uoKmkdS2iiBH",
        "outputId": "859584af-fa4a-41f4-b8eb-3009a10ead75"
      },
      "execution_count": null,
      "outputs": [
        {
          "output_type": "stream",
          "name": "stdout",
          "text": [
            "Celsius Temperatures: [0, 20, 30, 37, 100]\n",
            "Fahrenheit Temperatures: [32.0, 68.0, 86.0, 98.6, 212.0]\n"
          ]
        }
      ]
    },
    {
      "cell_type": "markdown",
      "source": [
        "10. Create a Python Program that uses **filter()** to remove all the vowls from a given string."
      ],
      "metadata": {
        "id": "lr06WZVLjV4l"
      }
    },
    {
      "cell_type": "code",
      "source": [
        "def is_not_vowel(char):\n",
        "  return char.lower() not in 'aieou'\n",
        "\n",
        "#Input string\n",
        "input_str=\"This is a sample string.\"\n",
        "\n",
        "#use filter\n",
        "no_vowels=''.join(filter(is_not_vowel,input_str))\n",
        "\n",
        "print(\"Original String:\",input_str)\n",
        "print(\"String without vowels:\",no_vowels)"
      ],
      "metadata": {
        "colab": {
          "base_uri": "https://localhost:8080/"
        },
        "id": "re88anFfjLiK",
        "outputId": "fd78807d-16cc-4dc8-b991-7271303cba09"
      },
      "execution_count": null,
      "outputs": [
        {
          "output_type": "stream",
          "name": "stdout",
          "text": [
            "Original String: This is a sample string.\n",
            "String without vowels: Ths s  smpl strng.\n"
          ]
        }
      ]
    },
    {
      "cell_type": "markdown",
      "source": [
        "11. Imagine an accounting rotine used in abook shop. It works on alist with sublist , which look like this:"
      ],
      "metadata": {
        "id": "RvCxoxYmj_mJ"
      }
    },
    {
      "cell_type": "code",
      "source": [
        "bookshop = [\n",
        "    [34587,\"Learning Python, Mark Lutz\",        4, 40.95],\n",
        "    [98762,\"Programming Python, Mark Lutz\",     5, 56.80],\n",
        "    [77226,\"Head First Python, Paul Barry\",     3, 32.95],\n",
        "    [88112,\"Einführung in Python3, Bernd Klein\",3, 24.99],\n",
        "]\n",
        "\n",
        "# Function to process book sales\n",
        "def process_books(book_list):\n",
        "  grand_total = 0\n",
        "  print(f\"{'OrderNumber':<15}{'Book Title and Author':<42}{'Quantity':<17}{'Price per Item':<20}\")\n",
        "  print(\"-\" * 105)\n",
        "\n",
        "  for book in book_list:\n",
        "      order_number, title, quantity, price_per_item = book\n",
        "      sub_total = quantity * price_per_item\n",
        "      grand_total += sub_total\n",
        "      print(f\"{order_number:<15}{title:<42} {quantity:<17.2f} ${price_per_item:<15.2f}\")\n",
        "\n",
        "  print(\"-\" * 105)\n",
        "  print(f\"{'Grand Total':>75} ${grand_total:.2f}\")\n",
        "\n",
        "process_books(bookshop)"
      ],
      "metadata": {
        "colab": {
          "base_uri": "https://localhost:8080/"
        },
        "id": "OGvUu3Gbj-NY",
        "outputId": "d94eb140-41e2-4232-dc29-a4a0a0fb1933"
      },
      "execution_count": null,
      "outputs": [
        {
          "output_type": "stream",
          "name": "stdout",
          "text": [
            "OrderNumber    Book Title and Author                     Quantity         Price per Item      \n",
            "---------------------------------------------------------------------------------------------------------\n",
            "34587          Learning Python, Mark Lutz                 4.00              $40.95          \n",
            "98762          Programming Python, Mark Lutz              5.00              $56.80          \n",
            "77226          Head First Python, Paul Barry              3.00              $32.95          \n",
            "88112          Einführung in Python3, Bernd Klein         3.00              $24.99          \n",
            "---------------------------------------------------------------------------------------------------------\n",
            "                                                                Grand Total $621.62\n"
          ]
        }
      ]
    },
    {
      "cell_type": "markdown",
      "source": [
        "Write a Python program, which returns a list with 2-tuples. Each tuple consists of the order number and the\n",
        "product of the price per item and the quantity. The product should be increased by 10,- € if the value of the\n",
        "order is smaller than 100,00 €."
      ],
      "metadata": {
        "id": "U9qgM4YIkWYe"
      }
    },
    {
      "cell_type": "code",
      "source": [
        "def calculate_order_value(orders):\n",
        "    result = []\n",
        "    for order in orders:\n",
        "        order_number, price_per_item, quantity = order\n",
        "        total = price_per_item * quantity\n",
        "        if total < 100:\n",
        "            total += 10\n",
        "        result.append((order_number, total))\n",
        "    return result\n",
        "\n",
        "# Example usage\n",
        "orders = [\n",
        "    (1, 20, 2),  # Order 1: price per item = 20, quantity = 2\n",
        "    (2, 50, 1),  # Order 2: price per item = 50, quantity = 1\n",
        "    (3, 5, 10),  # Order 3: price per item = 5, quantity = 10\n",
        "    (4, 15, 3)   # Order 4: price per item = 15, quantity = 3\n",
        "]\n",
        "\n",
        "order_values = calculate_order_value(orders)\n",
        "print(order_values)  # Output: [(1, 50), (2, 60), (3, 60), (4, 55)]\n"
      ],
      "metadata": {
        "colab": {
          "base_uri": "https://localhost:8080/"
        },
        "id": "4hB4aiwBkTol",
        "outputId": "59fa8e56-52df-4742-c3bc-0ee68f0b401d"
      },
      "execution_count": null,
      "outputs": [
        {
          "output_type": "stream",
          "name": "stdout",
          "text": [
            "[(1, 50), (2, 60), (3, 60), (4, 55)]\n"
          ]
        }
      ]
    },
    {
      "cell_type": "markdown",
      "source": [
        "13. Write a Python program using lambda and map."
      ],
      "metadata": {
        "id": "BKQoKOQ6k_dg"
      }
    },
    {
      "cell_type": "code",
      "source": [
        "numbers=[1,2,3,4,5,6,7,8,9,10]\n",
        "\n",
        "squared_and_doubled=list(map(lambda x:(x**2)*2,numbers))\n",
        "\n",
        "print(\"Original numbers:\",numbers)\n",
        "print(\"Squared and doubled numbers:\",squared_and_doubled)"
      ],
      "metadata": {
        "colab": {
          "base_uri": "https://localhost:8080/"
        },
        "id": "VqBnlMRok-r4",
        "outputId": "de1c23dc-d8be-45db-d357-7826c4b1b086"
      },
      "execution_count": null,
      "outputs": [
        {
          "output_type": "stream",
          "name": "stdout",
          "text": [
            "Original numbers: [1, 2, 3, 4, 5, 6, 7, 8, 9, 10]\n",
            "Squared and doubled numbers: [2, 8, 18, 32, 50, 72, 98, 128, 162, 200]\n"
          ]
        }
      ]
    },
    {
      "cell_type": "code",
      "source": [],
      "metadata": {
        "id": "59f8Vp1klrFE"
      },
      "execution_count": null,
      "outputs": []
    }
  ]
}